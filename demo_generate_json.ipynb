{
 "cells": [
  {
   "cell_type": "code",
   "execution_count": 139,
   "id": "9a7770e7-69dd-469b-bf55-0eb174d97fc5",
   "metadata": {},
   "outputs": [],
   "source": [
    "from pprint import pprint\n",
    "from details.generate_tools_schema import generate_json_schema"
   ]
  },
  {
   "cell_type": "code",
   "execution_count": 140,
   "id": "06f51fbc-8265-4402-8fb2-00b962b6f55a",
   "metadata": {},
   "outputs": [],
   "source": [
    "def addition(a: int = 1, b: int = 2) -> int:\n",
    "    \"\"\"\n",
    "    This function is an addition between two integer a and b\n",
    "    \n",
    "    :param a: An input integer, default to be 0\n",
    "    :param b: An input integer\n",
    "    :return: An integer\n",
    "    \"\"\"\n",
    "    return  a + b\n",
    "\n",
    "def query_db(customer_id: str) -> str:\n",
    "    \"\"\"\n",
    "    This function query the database and return the number of transactions made by a customer\n",
    "\n",
    "    Params:\n",
    "        customer_id: A string representation of the customer id\n",
    "\n",
    "    Returns:\n",
    "        A string describing the number of transactions made by the customer\n",
    "    \"\"\"\n",
    "    num_transactions = 10 # placeholder\n",
    "    return f\"The customer with {customer_id} has made {num_transactions}\""
   ]
  },
  {
   "cell_type": "code",
   "execution_count": 141,
   "id": "6d3b7a31-22d5-4889-9714-fdf2943af7db",
   "metadata": {},
   "outputs": [
    {
     "name": "stdout",
     "output_type": "stream",
     "text": [
      "{'function': {'description': 'This function is an addition between two integer '\n",
      "                             'a and b',\n",
      "              'name': 'addition',\n",
      "              'parameters': {'properties': {'a': {'default': 1,\n",
      "                                                  'description': 'An input '\n",
      "                                                                 'integer, '\n",
      "                                                                 'default to '\n",
      "                                                                 'be 0',\n",
      "                                                  'title': 'A',\n",
      "                                                  'type': 'integer'},\n",
      "                                            'b': {'default': 2,\n",
      "                                                  'description': 'An input '\n",
      "                                                                 'integer',\n",
      "                                                  'title': 'B',\n",
      "                                                  'type': 'integer'}},\n",
      "                             'title': 'addition',\n",
      "                             'type': 'object'}},\n",
      " 'type': 'function'}\n",
      "{'function': {'description': 'This function query the database and return the '\n",
      "                             'number of transactions made by a customer',\n",
      "              'name': 'query_db',\n",
      "              'parameters': {'properties': {'customer_id': {'description': 'A '\n",
      "                                                                           'string '\n",
      "                                                                           'representation '\n",
      "                                                                           'of '\n",
      "                                                                           'the '\n",
      "                                                                           'customer '\n",
      "                                                                           'id',\n",
      "                                                            'title': 'Customer '\n",
      "                                                                     'Id',\n",
      "                                                            'type': 'string'}},\n",
      "                             'required': ['customer_id'],\n",
      "                             'title': 'query_db',\n",
      "                             'type': 'object'}},\n",
      " 'type': 'function'}\n"
     ]
    }
   ],
   "source": [
    "pprint(generate_json_schema(addition), indent=1)\n",
    "pprint(generate_json_schema(query_db), indent=1)"
   ]
  },
  {
   "cell_type": "code",
   "execution_count": 142,
   "id": "2be0cc6a-2e8a-4294-92a6-da85583ae514",
   "metadata": {},
   "outputs": [],
   "source": [
    "function = addition"
   ]
  },
  {
   "cell_type": "code",
   "execution_count": 143,
   "id": "53321c18-6621-4424-a35b-be9c9f2f8436",
   "metadata": {},
   "outputs": [
    {
     "data": {
      "text/plain": [
       "<function __main__.addition(a: int = 1, b: int = 2) -> int>"
      ]
     },
     "execution_count": 143,
     "metadata": {},
     "output_type": "execute_result"
    }
   ],
   "source": [
    "function"
   ]
  },
  {
   "cell_type": "code",
   "execution_count": 144,
   "id": "85c0fb1f-77f8-4ccd-b987-2f1ace32ef2d",
   "metadata": {},
   "outputs": [],
   "source": [
    "function_description = function.__doc__"
   ]
  },
  {
   "cell_type": "code",
   "execution_count": 145,
   "id": "d9c3ed8e-fcc0-4541-a616-93164769b7cf",
   "metadata": {},
   "outputs": [
    {
     "name": "stdout",
     "output_type": "stream",
     "text": [
      "\n",
      "    This function is an addition between two integer a and b\n",
      "    \n",
      "    :param a: An input integer, default to be 0\n",
      "    :param b: An input integer\n",
      "    :return: An integer\n",
      "    \n"
     ]
    }
   ],
   "source": [
    "print(function_description)"
   ]
  },
  {
   "cell_type": "code",
   "execution_count": 146,
   "id": "46c75ba8-460e-4dba-93d7-6105448c6c6a",
   "metadata": {},
   "outputs": [],
   "source": [
    "import docstring_parser"
   ]
  },
  {
   "cell_type": "code",
   "execution_count": 147,
   "id": "2b0260eb-3735-406f-abf9-5d54c46abf36",
   "metadata": {},
   "outputs": [],
   "source": [
    "parsed_docstring = docstring_parser.parse(function_description)"
   ]
  },
  {
   "cell_type": "code",
   "execution_count": 148,
   "id": "519abb4b-038d-40b1-8867-9a30512db405",
   "metadata": {},
   "outputs": [
    {
     "data": {
      "text/plain": [
       "['__class__',\n",
       " '__delattr__',\n",
       " '__dict__',\n",
       " '__dir__',\n",
       " '__doc__',\n",
       " '__eq__',\n",
       " '__format__',\n",
       " '__ge__',\n",
       " '__getattribute__',\n",
       " '__getstate__',\n",
       " '__gt__',\n",
       " '__hash__',\n",
       " '__init__',\n",
       " '__init_subclass__',\n",
       " '__le__',\n",
       " '__lt__',\n",
       " '__module__',\n",
       " '__ne__',\n",
       " '__new__',\n",
       " '__reduce__',\n",
       " '__reduce_ex__',\n",
       " '__repr__',\n",
       " '__setattr__',\n",
       " '__sizeof__',\n",
       " '__str__',\n",
       " '__subclasshook__',\n",
       " '__weakref__',\n",
       " 'blank_after_long_description',\n",
       " 'blank_after_short_description',\n",
       " 'deprecation',\n",
       " 'description',\n",
       " 'examples',\n",
       " 'long_description',\n",
       " 'many_returns',\n",
       " 'meta',\n",
       " 'params',\n",
       " 'raises',\n",
       " 'returns',\n",
       " 'short_description',\n",
       " 'style']"
      ]
     },
     "execution_count": 148,
     "metadata": {},
     "output_type": "execute_result"
    }
   ],
   "source": [
    "dir(parsed_docstring)"
   ]
  },
  {
   "cell_type": "code",
   "execution_count": 149,
   "id": "70e64d21-8d29-43a3-bc5c-f9a71a117591",
   "metadata": {},
   "outputs": [
    {
     "data": {
      "text/plain": [
       "'This function is an addition between two integer a and b'"
      ]
     },
     "execution_count": 149,
     "metadata": {},
     "output_type": "execute_result"
    }
   ],
   "source": [
    "parsed_docstring.short_description"
   ]
  },
  {
   "cell_type": "code",
   "execution_count": 150,
   "id": "4118c462-bfc7-448d-9c61-2d41c194455a",
   "metadata": {},
   "outputs": [],
   "source": [
    "parsed_docstring.long_description"
   ]
  },
  {
   "cell_type": "code",
   "execution_count": 151,
   "id": "c690140f-52d8-4811-b952-07907a57a29a",
   "metadata": {},
   "outputs": [],
   "source": [
    "function_description = parsed_docstring.short_description or parsed_docstring.long_description"
   ]
  },
  {
   "cell_type": "code",
   "execution_count": 152,
   "id": "449260f4-d09c-4210-a636-05abd60d8595",
   "metadata": {},
   "outputs": [
    {
     "data": {
      "text/plain": [
       "'This function is an addition between two integer a and b'"
      ]
     },
     "execution_count": 152,
     "metadata": {},
     "output_type": "execute_result"
    }
   ],
   "source": [
    "function_description"
   ]
  },
  {
   "cell_type": "code",
   "execution_count": 153,
   "id": "4efaed25-43c3-4011-963e-1270da2a6eae",
   "metadata": {},
   "outputs": [
    {
     "data": {
      "text/plain": [
       "['__class__',\n",
       " '__delattr__',\n",
       " '__dict__',\n",
       " '__dir__',\n",
       " '__doc__',\n",
       " '__eq__',\n",
       " '__format__',\n",
       " '__ge__',\n",
       " '__getattribute__',\n",
       " '__getstate__',\n",
       " '__gt__',\n",
       " '__hash__',\n",
       " '__init__',\n",
       " '__init_subclass__',\n",
       " '__le__',\n",
       " '__lt__',\n",
       " '__module__',\n",
       " '__ne__',\n",
       " '__new__',\n",
       " '__reduce__',\n",
       " '__reduce_ex__',\n",
       " '__repr__',\n",
       " '__setattr__',\n",
       " '__sizeof__',\n",
       " '__str__',\n",
       " '__subclasshook__',\n",
       " '__weakref__']"
      ]
     },
     "execution_count": 153,
     "metadata": {},
     "output_type": "execute_result"
    }
   ],
   "source": [
    "dir(docstring_parser.DocstringParam)"
   ]
  },
  {
   "cell_type": "code",
   "execution_count": 154,
   "id": "c5aab331-8a78-441f-baae-3132c0474e60",
   "metadata": {},
   "outputs": [],
   "source": [
    "parameter_description = {}\n",
    "\n",
    "for meta in parsed_docstring.meta:\n",
    "    if isinstance(meta, docstring_parser.DocstringParam):\n",
    "        parameter_description[meta.arg_name] = meta.description"
   ]
  },
  {
   "cell_type": "code",
   "execution_count": 155,
   "id": "bfc58c99-4f37-473d-9766-7f21c4275cd6",
   "metadata": {},
   "outputs": [
    {
     "data": {
      "text/plain": [
       "{'a': 'An input integer, default to be 0', 'b': 'An input integer'}"
      ]
     },
     "execution_count": 155,
     "metadata": {},
     "output_type": "execute_result"
    }
   ],
   "source": [
    "parameter_description"
   ]
  },
  {
   "cell_type": "code",
   "execution_count": 156,
   "id": "be89e702-5e9c-4947-bc75-c5b1992bab26",
   "metadata": {},
   "outputs": [],
   "source": [
    "import inspect\n",
    "\n",
    "defaults = dict(inspect.signature(function).parameters)"
   ]
  },
  {
   "cell_type": "code",
   "execution_count": 157,
   "id": "ad8138b5-18af-4e52-8008-c5237dba2217",
   "metadata": {},
   "outputs": [
    {
     "data": {
      "text/plain": [
       "{'a': <Parameter \"a: int = 1\">, 'b': <Parameter \"b: int = 2\">}"
      ]
     },
     "execution_count": 157,
     "metadata": {},
     "output_type": "execute_result"
    }
   ],
   "source": [
    "defaults"
   ]
  },
  {
   "cell_type": "code",
   "execution_count": 158,
   "id": "a987f210-ccb0-4fb1-ab8a-823319b2e0fe",
   "metadata": {},
   "outputs": [
    {
     "name": "stdout",
     "output_type": "stream",
     "text": [
      "<class 'int'>\n",
      "1\n",
      "<class 'int'>\n",
      "2\n"
     ]
    }
   ],
   "source": [
    "for name, param in defaults.items():\n",
    "    print(param.annotation)\n",
    "    print(param.default)"
   ]
  },
  {
   "cell_type": "code",
   "execution_count": 159,
   "id": "f480e130-face-4efd-8c06-63122400ce39",
   "metadata": {},
   "outputs": [],
   "source": [
    "from pydantic import v1 as pydantic\n",
    "from pydantic.v1 import fields as pydantic_fields"
   ]
  },
  {
   "cell_type": "code",
   "execution_count": 164,
   "id": "c0feb384-2cd0-4a5c-8d5a-44d79ade178f",
   "metadata": {},
   "outputs": [],
   "source": [
    "fields_dict = {\n",
    "\n",
    "    name: (\n",
    "        (param.annotation if param.annotation != inspect.Parameter.empty else Any),\n",
    "        pydantic.Field(\n",
    "            default = (\n",
    "                param.default if param.default != inspect.Parameter.empty \n",
    "                else pydantic_fields.Undefined\n",
    "            ),\n",
    "            description = parameter_description.get(name, None),\n",
    "        ), \n",
    "    )\n",
    "    for name, param in defaults.items()\n",
    "\n",
    "}"
   ]
  },
  {
   "cell_type": "code",
   "execution_count": 166,
   "id": "df350df3-690f-4343-b91b-94d61c36db23",
   "metadata": {},
   "outputs": [
    {
     "name": "stdout",
     "output_type": "stream",
     "text": [
      "{'a': (<class 'int'>,\n",
      "       FieldInfo(default=1, description='An input integer, default to be 0', extra={})),\n",
      " 'b': (<class 'int'>,\n",
      "       FieldInfo(default=2, description='An input integer', extra={}))}\n"
     ]
    }
   ],
   "source": [
    "pprint(fields_dict)"
   ]
  },
  {
   "cell_type": "code",
   "execution_count": null,
   "id": "83c6192d-7f97-4db8-a600-0be98cab420d",
   "metadata": {},
   "outputs": [],
   "source": []
  }
 ],
 "metadata": {
  "kernelspec": {
   "display_name": "Python 3 (ipykernel)",
   "language": "python",
   "name": "python3"
  },
  "language_info": {
   "codemirror_mode": {
    "name": "ipython",
    "version": 3
   },
   "file_extension": ".py",
   "mimetype": "text/x-python",
   "name": "python",
   "nbconvert_exporter": "python",
   "pygments_lexer": "ipython3",
   "version": "3.11.10"
  }
 },
 "nbformat": 4,
 "nbformat_minor": 5
}
