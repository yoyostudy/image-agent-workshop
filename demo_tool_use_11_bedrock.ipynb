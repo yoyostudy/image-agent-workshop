{
 "cells": [
  {
   "cell_type": "code",
   "execution_count": 80,
   "id": "c4a9a8c3-1672-4fac-ac29-71f49f048f85",
   "metadata": {},
   "outputs": [],
   "source": [
    "from pipeline.generate_tool_schema_bedrock import generate_json_schema\n",
    "from gen_ai_hub.proxy.native.amazon.clients import Session\n",
    "\n",
    "model_name = 'anthropic--claude-3-opus'\n",
    "bedrock = Session().client(model_name=model_name)\n",
    "\n",
    "def call_bedrock(messages, tool_list):\n",
    "    bedrock = Session().client(model_name=model_name)\n",
    "    response = bedrock.converse(\n",
    "        messages = messages, \n",
    "        inferenceConfig = {\n",
    "            \"maxTokens\": 4096, \n",
    "            \"temperature\": 0.0, \n",
    "        },\n",
    "        toolConfig={\n",
    "            \"tools\": tool_list\n",
    "        }\n",
    "    )\n",
    "    return response"
   ]
  },
  {
   "cell_type": "code",
   "execution_count": 81,
   "id": "cf6525fb-e27c-40b3-9fb2-ce964d1815fe",
   "metadata": {},
   "outputs": [],
   "source": [
    "################################\n",
    "# Define Your Tool functions Here\n",
    "\n",
    "def cosine(x: int) -> float:\n",
    "    \"\"\"\n",
    "    Calculate the cosine of an integer \n",
    "    \n",
    "    :param x: The input integer\n",
    "    :return: A float representing the cosine of x\n",
    "    \"\"\"\n",
    "    import math\n",
    "    return math.cos(x)\n",
    "\n",
    "def sin(x: int) -> float:\n",
    "    \"\"\"\n",
    "    Calculate the sine of an integer\n",
    "\n",
    "    :param x: The input integer\n",
    "    :return: A float representing the sine of x\n",
    "    \"\"\"\n",
    "    import math\n",
    "    return math.sin(x)\n",
    "\n",
    "def addition(x: float, y: float) -> float:\n",
    "    \"\"\"\n",
    "    Calculate the addition of two float numbers\n",
    "\n",
    "    :param x: The input float x\n",
    "    :param y: The input float y\n",
    "    :return: A float representing the sum of x and y\n",
    "    \"\"\"\n",
    "    return x + y"
   ]
  },
  {
   "cell_type": "code",
   "execution_count": 90,
   "id": "83281c23-d86c-48c5-a212-835497967b0e",
   "metadata": {},
   "outputs": [],
   "source": [
    "def run_loop(prompt, tool_list, function_mapping):\n",
    "    import json\n",
    "    continue_loop = True\n",
    "    \n",
    "    messages = []\n",
    "    user_message =  {\"role\": \"user\", \"content\": [{'text': prompt}]}\n",
    "    messages.append(user_message)\n",
    "\n",
    "    while continue_loop: \n",
    "        for line in messages:\n",
    "            print(line)\n",
    "        print('\\n')\n",
    "        response = call_bedrock( \n",
    "            messages = messages,\n",
    "            tool_list=tool_list)\n",
    "        \n",
    "        response_message = response['output']['message']\n",
    "        \n",
    "        if response['stopReason'] == \"end_turn\":\n",
    "            return response_message['content']\n",
    "\n",
    "        response_content_blocks = response_message['content']\n",
    "        messages.append({\"role\": \"assistant\", \"content\": response_content_blocks})\n",
    "        follow_up_content_blocks = []\n",
    "        for content_block in response_content_blocks:\n",
    "                \n",
    "            if 'toolUse' in content_block:\n",
    "                tool_use_block = content_block['toolUse']\n",
    "                tool_use_id = tool_use_block['toolUseId']\n",
    "                tool_use_name = tool_use_block['name']\n",
    "                tool_use_input = tool_use_block['input']\n",
    "                tool_call_function = function_mapping.get(tool_use_name)\n",
    "                tool_call_result = tool_call_function(**tool_use_input)\n",
    "            \n",
    "                follow_up_content_blocks.append({\n",
    "                        \"toolResult\": {\n",
    "                            'toolUseId': tool_use_id,\n",
    "                            'content':[\n",
    "                                {\n",
    "                                    \"json\": {\n",
    "                                        \"result\": tool_call_result\n",
    "                                    }\n",
    "                                }\n",
    "                            ]\n",
    "                        }\n",
    "                    })\n",
    "        \n",
    "        if len(follow_up_content_blocks) > 0:\n",
    "            function_call_result_message  = {\n",
    "                 \"role\" : \"user\", \n",
    "                 \"content\": follow_up_content_blocks\n",
    "            }\n",
    "            messages.append(function_call_result_message) "
   ]
  },
  {
   "cell_type": "code",
   "execution_count": 91,
   "id": "ae1a211e-bb96-4383-91b9-f46e60e4f2ec",
   "metadata": {},
   "outputs": [
    {
     "name": "stdout",
     "output_type": "stream",
     "text": [
      "{'role': 'user', 'content': [{'text': 'Calculate cos(3) + sin(4) for me'}]}\n",
      "\n",
      "\n",
      "{'role': 'user', 'content': [{'text': 'Calculate cos(3) + sin(4) for me'}]}\n",
      "{'role': 'assistant', 'content': [{'text': '<thinking>\\nTo answer this request, we will need to use two tools:\\n1. The cosine tool to calculate cos(3). It requires an integer parameter x, which is provided by the user (x=3).\\n2. The sin tool to calculate sin(4). It also requires an integer parameter x, which is provided by the user (x=4). \\n3. To get the final result, we will need to add the outputs of the cosine and sin tools. The addition tool takes two float parameters x and y. We can get these values from the outputs of the cosine and sin tools.\\n\\nSo the order of operations will be:\\n1. Call cosine with x=3\\n2. Call sin with x=4 \\n3. Call addition with x=output of cosine and y=output of sin\\n</thinking>'}, {'toolUse': {'toolUseId': 'tooluse_PekI2-VeRZ-We9h0MLL1XA', 'name': 'cosine', 'input': {'x': 3}}}, {'toolUse': {'toolUseId': 'tooluse_Vh5rL_UJTX6ynobQib-m-A', 'name': 'sin', 'input': {'x': 4}}}, {'toolUse': {'toolUseId': 'tooluse_a3HITpg0SwKbhGlyjFYRhg', 'name': 'addition', 'input': {'x': -0.9899924966004454, 'y': -0.7568024953079282}}}]}\n",
      "{'role': 'user', 'content': [{'toolResult': {'toolUseId': 'tooluse_PekI2-VeRZ-We9h0MLL1XA', 'content': [{'json': {'result': -0.9899924966004454}}]}}, {'toolResult': {'toolUseId': 'tooluse_Vh5rL_UJTX6ynobQib-m-A', 'content': [{'json': {'result': -0.7568024953079283}}]}}, {'toolResult': {'toolUseId': 'tooluse_a3HITpg0SwKbhGlyjFYRhg', 'content': [{'json': {'result': -1.7467949919083736}}]}}]}\n",
      "\n",
      "\n"
     ]
    },
    {
     "data": {
      "text/plain": [
       "[{'text': 'Therefore, cos(3) + sin(4) = -1.7467949919083736'}]"
      ]
     },
     "execution_count": 91,
     "metadata": {},
     "output_type": "execute_result"
    }
   ],
   "source": [
    "tool_list = []\n",
    "tool_list.append(generate_json_schema(cosine))\n",
    "tool_list.append(generate_json_schema(sin))\n",
    "tool_list.append(generate_json_schema(addition))\n",
    "\n",
    "function_mapping = {\n",
    "    \"cosine\": cosine, \n",
    "    \"sin\": sin,\n",
    "    \"addition\": addition\n",
    "}\n",
    "\n",
    "run_loop(prompt = \"Calculate cos(3) + sin(4) for me\", \n",
    "         tool_list = tool_list, \n",
    "         function_mapping = function_mapping)"
   ]
  }
 ],
 "metadata": {
  "kernelspec": {
   "display_name": "Python 3 (ipykernel)",
   "language": "python",
   "name": "python3"
  },
  "language_info": {
   "codemirror_mode": {
    "name": "ipython",
    "version": 3
   },
   "file_extension": ".py",
   "mimetype": "text/x-python",
   "name": "python",
   "nbconvert_exporter": "python",
   "pygments_lexer": "ipython3",
   "version": "3.11.10"
  }
 },
 "nbformat": 4,
 "nbformat_minor": 5
}
