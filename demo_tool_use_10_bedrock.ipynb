{
 "cells": [
  {
   "cell_type": "code",
   "execution_count": 45,
   "id": "cf6525fb-e27c-40b3-9fb2-ce964d1815fe",
   "metadata": {},
   "outputs": [],
   "source": [
    "def cosine(x: int) -> float:\n",
    "    \"\"\"\n",
    "    Calculate the cosine of an integer \n",
    "    \n",
    "    :param x: The input integer\n",
    "    :return: A float representing the cosine of x\n",
    "    \"\"\"\n",
    "    import math\n",
    "    return math.cos(x)"
   ]
  },
  {
   "cell_type": "code",
   "execution_count": 46,
   "id": "20a8d898-812c-44c7-8fa6-4c04274a2c5c",
   "metadata": {},
   "outputs": [],
   "source": [
    "from pprint import pprint\n",
    "\n",
    "import inspect\n",
    "from typing import Dict, Any, Callable\n",
    "\n",
    "Struct = Dict[str, Dict]\n",
    "\n",
    "def generate_json_schema(\n",
    "    func: Callable, \n",
    ") -> Struct:\n",
    "    \"\"\"\n",
    "    Generate Bedrock tool JSON Schema for a callable object.\n",
    "\n",
    "    The `func` function needs to follow specific rules.\n",
    "    All parameters must be names explicitly (`*args` and `**kwargs` are not supported).\n",
    "\n",
    "    :param func: Function for which to generate schema\n",
    "    :return: The JSON Schema for the tool as a dict.\n",
    "    \"\"\"\n",
    "\n",
    "    from pydantic import v1 as pydantic\n",
    "    from pydantic.v1 import fields as pydantic_fields\n",
    "    import docstring_parser\n",
    "\n",
    "    function_description = func.__doc__\n",
    "    print(function_description)\n",
    "\n",
    "    # Parsed parameter descriptions from the docstring\n",
    "    # Also parse the function description in a better way\n",
    "    parameter_description = {}\n",
    "    parsed_docstring = docstring_parser.parse(func.__doc__)\n",
    "    print(dir(parsed_docstring))\n",
    "    function_description = parsed_docstring.long_description or parsed_docstring.short_description\n",
    "    print(function_description)\n",
    "    for meta in parsed_docstring.meta:\n",
    "        if isinstance(meta, docstring_parser.DocstringParam):\n",
    "            parameter_description[meta.arg_name] = meta.description\n",
    "    print(parameter_description)\n",
    "\n",
    "    defaults = dict(inspect.signature(func).parameters)\n",
    "    print(defaults)\n",
    "    fields_dict = {\n",
    "        name: (\n",
    "            # 1. We infer the argument type here: use Any rather than None so\n",
    "            # it will not try to auto-infer the type based on the default value.\n",
    "            (param.annotation if param.annotation != inspect.Parameter.empty else Any),\n",
    "            pydantic.Field(\n",
    "                # 2. We do not support default values for now.\n",
    "                default=(\n",
    "                    param.default\n",
    "                    if param.default != inspect.Parameter.empty\n",
    "                    # ! Need to use Undefined instead of None\n",
    "                    else pydantic_fields.Undefined\n",
    "                ),\n",
    "                # 3. We support user-provided descriptions.\n",
    "                description=parameter_description.get(name, None),\n",
    "            ),\n",
    "        )\n",
    "        for name, param in defaults.items()\n",
    "        # We do not support *args or **kwargs\n",
    "        if param.kind\n",
    "        in (\n",
    "            inspect.Parameter.POSITIONAL_OR_KEYWORD,\n",
    "            inspect.Parameter.KEYWORD_ONLY,\n",
    "            inspect.Parameter.POSITIONAL_ONLY,\n",
    "        )\n",
    "    }\n",
    "    fields_schema = pydantic.create_model(func.__name__, **fields_dict).schema()\n",
    "\n",
    "    input_schema = {}\n",
    "    input_schema[\"json\"] = fields_schema\n",
    "    pprint(input_schema)\n",
    "\n",
    "    tool_spec_schema = {}\n",
    "    tool_spec_schema[\"name\"] = func.__name__\n",
    "    tool_spec_schema[\"description\"] = function_description if function_description else \"\" \n",
    "    tool_spec_schema[\"inputSchema\"] = input_schema\n",
    "\n",
    "    tool_schema = {}\n",
    "    tool_schema[\"toolSpec\"] = tool_spec_schema\n",
    "    return tool_spec_schema"
   ]
  },
  {
   "cell_type": "code",
   "execution_count": 47,
   "id": "ae1a211e-bb96-4383-91b9-f46e60e4f2ec",
   "metadata": {},
   "outputs": [
    {
     "name": "stdout",
     "output_type": "stream",
     "text": [
      "\n",
      "    Calculate the cosine of an integer \n",
      "    \n",
      "    :param x: The input integer\n",
      "    :return: A float representing the cosine of x\n",
      "    \n",
      "['__class__', '__delattr__', '__dict__', '__dir__', '__doc__', '__eq__', '__format__', '__ge__', '__getattribute__', '__getstate__', '__gt__', '__hash__', '__init__', '__init_subclass__', '__le__', '__lt__', '__module__', '__ne__', '__new__', '__reduce__', '__reduce_ex__', '__repr__', '__setattr__', '__sizeof__', '__str__', '__subclasshook__', '__weakref__', 'blank_after_long_description', 'blank_after_short_description', 'deprecation', 'description', 'examples', 'long_description', 'many_returns', 'meta', 'params', 'raises', 'returns', 'short_description', 'style']\n",
      "Calculate the cosine of an integer \n",
      "{'x': 'The input integer'}\n",
      "{'x': <Parameter \"x: int\">}\n",
      "{'json': {'properties': {'x': {'description': 'The input integer',\n",
      "                               'title': 'X',\n",
      "                               'type': 'integer'}},\n",
      "          'required': ['x'],\n",
      "          'title': 'cosine',\n",
      "          'type': 'object'}}\n"
     ]
    },
    {
     "data": {
      "text/plain": [
       "{'name': 'cosine',\n",
       " 'description': 'Calculate the cosine of an integer ',\n",
       " 'inputSchema': {'json': {'title': 'cosine',\n",
       "   'type': 'object',\n",
       "   'properties': {'x': {'title': 'X',\n",
       "     'description': 'The input integer',\n",
       "     'type': 'integer'}},\n",
       "   'required': ['x']}}}"
      ]
     },
     "execution_count": 47,
     "metadata": {},
     "output_type": "execute_result"
    }
   ],
   "source": [
    "generate_json_schema(cosine)"
   ]
  },
  {
   "cell_type": "code",
   "execution_count": null,
   "id": "24fddd7a-7c76-4322-8f3e-f622bbc8bdde",
   "metadata": {},
   "outputs": [],
   "source": []
  }
 ],
 "metadata": {
  "kernelspec": {
   "display_name": "Python 3 (ipykernel)",
   "language": "python",
   "name": "python3"
  },
  "language_info": {
   "codemirror_mode": {
    "name": "ipython",
    "version": 3
   },
   "file_extension": ".py",
   "mimetype": "text/x-python",
   "name": "python",
   "nbconvert_exporter": "python",
   "pygments_lexer": "ipython3",
   "version": "3.11.10"
  }
 },
 "nbformat": 4,
 "nbformat_minor": 5
}
