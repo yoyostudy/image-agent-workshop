{
 "cells": [
  {
   "cell_type": "code",
   "execution_count": 1,
   "id": "7b410945-04d6-4fd7-a118-1c9738ded8dc",
   "metadata": {},
   "outputs": [],
   "source": [
    "from pprint import pprint\n",
    "from typing import Literal, List, Dict\n",
    "\n",
    "from gen_ai_hub.proxy.native.openai import chat, completions\n",
    "from pipeline.generate_tool_schema import generate_json_schema"
   ]
  },
  {
   "cell_type": "code",
   "execution_count": 2,
   "id": "85613598-3377-4542-85c3-6269783f7ab1",
   "metadata": {},
   "outputs": [],
   "source": [
    "################################\n",
    "# Define Your Tool functions Here\n",
    "\n",
    "def cosine(x: int) -> float:\n",
    "    \"\"\"\n",
    "    Calculate the cosine of an integer \n",
    "    \n",
    "    :param x: The input integer\n",
    "    :return: A float representing the cosine of x\n",
    "    \"\"\"\n",
    "    import math\n",
    "    return math.cos(x)\n",
    "\n",
    "def sin(x: int) -> float:\n",
    "    \"\"\"\n",
    "    Calculate the sine of an integer\n",
    "\n",
    "    :param x: The input integer\n",
    "    :return: A float representing the sine of x\n",
    "    \"\"\"\n",
    "    import math\n",
    "    return math.sin(x)\n",
    "\n",
    "def addition(x: float, y: float) -> float:\n",
    "    \"\"\"\n",
    "    Calculate the addition of two float numbers\n",
    "\n",
    "    :param x: The input float x\n",
    "    :param y: The input float y\n",
    "    :return: A float representing the sum of x and y\n",
    "    \"\"\"\n",
    "    return x + y"
   ]
  },
  {
   "cell_type": "code",
   "execution_count": 8,
   "id": "6716ffdb-c009-4ea4-bc27-4abe37f0f4c4",
   "metadata": {},
   "outputs": [],
   "source": [
    "def run_loop(prompt, tools, function_mapping):\n",
    "    import json\n",
    "    continue_loop = True\n",
    "    \n",
    "    messages = []\n",
    "    system_message = {\"role\": \"system\", \"content\": \"You are a helpful customer support assistant. Use the supplied tools to assist the user.\"}\n",
    "    user_message =  {\"role\": \"user\", \"content\": prompt}\n",
    "    messages.append(system_message)\n",
    "    messages.append(user_message)\n",
    "\n",
    "    while continue_loop: \n",
    "        response = chat.completions.create( \n",
    "            messages = messages,\n",
    "            model_name = \"gpt-4\",\n",
    "            tools=tools)\n",
    "        print(response) \n",
    "        print('\\n')\n",
    "        response_message = response.choices[0].message\n",
    "        \n",
    "        if response.choices[0].finish_reason == \"stop\":\n",
    "            return response_message.content\n",
    "\n",
    "        tool_call_block = response_message.tool_calls[0]\n",
    "        if tool_call_block:\n",
    "            messages.append({\"role\": \"assistant\", \"tool_calls\": response_message.tool_calls})\n",
    "            tool_call_id = tool_call_block.id\n",
    "            tool_call_function_name = tool_call_block.function.name\n",
    "            tool_call_function_arguments = json.loads(tool_call_block.function.arguments)\n",
    "            tool_call_function = function_mapping.get(tool_call_function_name)\n",
    "            tool_call_result = tool_call_function(**tool_call_function_arguments)\n",
    "            function_call_result_message = {\n",
    "                 \"role\" : \"tool\", \n",
    "                 \"content\": json.dumps({**tool_call_function_arguments, \"result\": tool_call_result}),\n",
    "                 \"tool_call_id\": tool_call_id\n",
    "            }\n",
    "            messages.append(function_call_result_message) \n",
    "\n"
   ]
  },
  {
   "cell_type": "code",
   "execution_count": 9,
   "id": "a09a6db6-5e19-4413-97dd-f273a86cc375",
   "metadata": {},
   "outputs": [
    {
     "name": "stdout",
     "output_type": "stream",
     "text": [
      "ChatCompletion(id='chatcmpl-AaSdLuAO4zvt55w0ClcquX5NFNv9i', choices=[Choice(finish_reason='tool_calls', index=0, logprobs=None, message=ChatCompletionMessage(content=None, refusal=None, role='assistant', audio=None, function_call=None, tool_calls=[ChatCompletionMessageToolCall(id='call_P52DRp0dIqWsIxA3nuQ3qHZM', function=Function(arguments='{\"x\":3}', name='cosine'), type='function')]), content_filter_results={})], created=1733253239, model='gpt-4-turbo-2024-04-09', object='chat.completion', service_tier=None, system_fingerprint='fp_5603ee5e2e', usage=CompletionUsage(completion_tokens=14, prompt_tokens=145, total_tokens=159, completion_tokens_details=None, prompt_tokens_details=None), prompt_filter_results=[{'content_filter_results': {'hate': {'filtered': False, 'severity': 'safe'}, 'self_harm': {'filtered': False, 'severity': 'safe'}, 'sexual': {'filtered': False, 'severity': 'safe'}, 'violence': {'filtered': False, 'severity': 'safe'}}, 'prompt_index': 0}])\n",
      "\n",
      "\n",
      "ChatCompletion(id='chatcmpl-AaSdMmYK3AiA8wrG2mYHqKMYzwNFG', choices=[Choice(finish_reason='tool_calls', index=0, logprobs=None, message=ChatCompletionMessage(content=None, refusal=None, role='assistant', audio=None, function_call=None, tool_calls=[ChatCompletionMessageToolCall(id='call_kCbLVfuMtmL0ee3qkMYDFsUJ', function=Function(arguments='{\"x\":4}', name='sin'), type='function')]), content_filter_results={})], created=1733253240, model='gpt-4-turbo-2024-04-09', object='chat.completion', service_tier=None, system_fingerprint='fp_5603ee5e2e', usage=CompletionUsage(completion_tokens=13, prompt_tokens=183, total_tokens=196, completion_tokens_details=None, prompt_tokens_details=None), prompt_filter_results=[{'content_filter_results': {'hate': {'filtered': False, 'severity': 'safe'}, 'self_harm': {'filtered': False, 'severity': 'safe'}, 'sexual': {'filtered': False, 'severity': 'safe'}, 'violence': {'filtered': False, 'severity': 'safe'}}, 'prompt_index': 0}])\n",
      "\n",
      "\n",
      "ChatCompletion(id='chatcmpl-AaSdNixb3f4whF4CyZnolzHoa4Whd', choices=[Choice(finish_reason='tool_calls', index=0, logprobs=None, message=ChatCompletionMessage(content=None, refusal=None, role='assistant', audio=None, function_call=None, tool_calls=[ChatCompletionMessageToolCall(id='call_6L3kCFR7EJQnmuoc5pKFL5Ll', function=Function(arguments='{\"x\":-0.9899924966004454,\"y\":-0.7568024953079283}', name='addition'), type='function')]), content_filter_results={})], created=1733253241, model='gpt-4-turbo-2024-04-09', object='chat.completion', service_tier=None, system_fingerprint='fp_5603ee5e2e', usage=CompletionUsage(completion_tokens=32, prompt_tokens=219, total_tokens=251, completion_tokens_details=None, prompt_tokens_details=None), prompt_filter_results=[{'content_filter_results': {'hate': {'filtered': False, 'severity': 'safe'}, 'self_harm': {'filtered': False, 'severity': 'safe'}, 'sexual': {'filtered': False, 'severity': 'safe'}, 'violence': {'filtered': False, 'severity': 'safe'}}, 'prompt_index': 0}])\n",
      "\n",
      "\n",
      "ChatCompletion(id='chatcmpl-AaSdOUq644d03l0olbba2SbXvo8jZ', choices=[Choice(finish_reason='stop', index=0, logprobs=None, message=ChatCompletionMessage(content='The result of \\\\( \\\\cos(3) + \\\\sin(4) \\\\) is approximately -1.7468.', refusal=None, role='assistant', audio=None, function_call=None, tool_calls=None), content_filter_results={'hate': {'filtered': False, 'severity': 'safe'}, 'self_harm': {'filtered': False, 'severity': 'safe'}, 'sexual': {'filtered': False, 'severity': 'safe'}, 'violence': {'filtered': False, 'severity': 'safe'}})], created=1733253242, model='gpt-4-turbo-2024-04-09', object='chat.completion', service_tier=None, system_fingerprint='fp_5603ee5e2e', usage=CompletionUsage(completion_tokens=26, prompt_tokens=295, total_tokens=321, completion_tokens_details=None, prompt_tokens_details=None), prompt_filter_results=[{'content_filter_results': {'hate': {'filtered': False, 'severity': 'safe'}, 'self_harm': {'filtered': False, 'severity': 'safe'}, 'sexual': {'filtered': False, 'severity': 'safe'}, 'violence': {'filtered': False, 'severity': 'safe'}}, 'prompt_index': 0}])\n",
      "\n",
      "\n"
     ]
    },
    {
     "data": {
      "text/plain": [
       "'The result of \\\\( \\\\cos(3) + \\\\sin(4) \\\\) is approximately -1.7468.'"
      ]
     },
     "execution_count": 9,
     "metadata": {},
     "output_type": "execute_result"
    }
   ],
   "source": [
    "tools = []\n",
    "tools.append(generate_json_schema(cosine))\n",
    "tools.append(generate_json_schema(sin))\n",
    "tools.append(generate_json_schema(addition))\n",
    "\n",
    "function_mapping = {\n",
    "    \"cosine\": cosine, \n",
    "    \"sin\": sin,\n",
    "    \"addition\": addition\n",
    "}\n",
    "\n",
    "run_loop(prompt = \"Calculate cos(3) + sin(4) for me\", \n",
    "         tools = tools, \n",
    "         function_mapping = function_mapping)"
   ]
  },
  {
   "cell_type": "code",
   "execution_count": null,
   "id": "d34e7525-0f85-4b56-b34f-05ae2c668d60",
   "metadata": {},
   "outputs": [],
   "source": []
  },
  {
   "cell_type": "code",
   "execution_count": null,
   "id": "eee8a080-bf7b-4553-8592-0a0120e3b6d6",
   "metadata": {},
   "outputs": [],
   "source": []
  }
 ],
 "metadata": {
  "kernelspec": {
   "display_name": "Python 3 (ipykernel)",
   "language": "python",
   "name": "python3"
  },
  "language_info": {
   "codemirror_mode": {
    "name": "ipython",
    "version": 3
   },
   "file_extension": ".py",
   "mimetype": "text/x-python",
   "name": "python",
   "nbconvert_exporter": "python",
   "pygments_lexer": "ipython3",
   "version": "3.11.10"
  }
 },
 "nbformat": 4,
 "nbformat_minor": 5
}
