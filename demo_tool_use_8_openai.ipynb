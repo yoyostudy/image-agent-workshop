{
 "cells": [
  {
   "cell_type": "code",
   "execution_count": 25,
   "id": "7b410945-04d6-4fd7-a118-1c9738ded8dc",
   "metadata": {},
   "outputs": [],
   "source": [
    "from pprint import pprint\n",
    "from typing import Literal, List, Dict\n",
    "\n",
    "from gen_ai_hub.proxy.native.openai import chat, completions\n",
    "from pipeline.generate_tool_schema import generate_json_schema"
   ]
  },
  {
   "cell_type": "code",
   "execution_count": 26,
   "id": "85613598-3377-4542-85c3-6269783f7ab1",
   "metadata": {},
   "outputs": [],
   "source": [
    "################################\n",
    "# Define Your Tool functions Here\n",
    "\n",
    "def cosine(x: int) -> float:\n",
    "    \"\"\"\n",
    "    Calculate the cosine of an integer \n",
    "    \n",
    "    :param x: The input integer\n",
    "    :return: A float representing the cosine of x\n",
    "    \"\"\"\n",
    "    import math\n",
    "    return math.cos(x)\n",
    "\n",
    "def sin(x: int) -> float:\n",
    "    \"\"\"\n",
    "    Calculate the sine of an integer\n",
    "\n",
    "    :param x: The input integer\n",
    "    :return: A float representing the sine of x\n",
    "    \"\"\"\n",
    "    import math\n",
    "    return math.sin(x)\n",
    "\n",
    "def addition(x: float, y: float) -> float:\n",
    "    \"\"\"\n",
    "    Calculate the addition of two float numbers\n",
    "\n",
    "    :param x: The input float x\n",
    "    :param y: The input float y\n",
    "    :return: A float representing the sum of x and y\n",
    "    \"\"\"\n",
    "    return x + y"
   ]
  },
  {
   "cell_type": "code",
   "execution_count": 27,
   "id": "6716ffdb-c009-4ea4-bc27-4abe37f0f4c4",
   "metadata": {},
   "outputs": [],
   "source": [
    "def run_loop(prompt, tools):\n",
    "    import json\n",
    "    continue_loop = True\n",
    "    \n",
    "    messages = []\n",
    "    system_message = {\"role\": \"system\", \"content\": \"You are a helpful customer support assistant. Use the supplied tools to assist the user.\"}\n",
    "    user_message =  {\"role\": \"user\", \"content\": prompt}\n",
    "    messages.append(system_message)\n",
    "    messages.append(user_message)\n",
    "\n",
    "    while continue_loop: \n",
    "        print(messages) # Comment out this line for debug purpose\n",
    "        response = chat.completions.create( \n",
    "            messages = messages,\n",
    "            model_name = \"gpt-4\",\n",
    "            tools=tools)\n",
    "        response_message = response.choices[0].message\n",
    "        \n",
    "        if response.choices[0].finish_reason == \"stop\":\n",
    "            return response_message.content\n",
    "\n",
    "        tool_call_block = response_message.tool_calls[0]\n",
    "        if tool_call_block:\n",
    "            messages.append({\"role\": \"assistant\", \"tool_calls\": response_message.tool_calls})\n",
    "            tool_call_id = tool_call_block.id\n",
    "            tool_call_function_name = tool_call_block.function.name\n",
    "            tool_call_function_arguments = json.loads(tool_call_block.function.arguments)\n",
    "            \n",
    "            if tool_call_function_name == 'cosine':\n",
    "                x = tool_call_function_arguments.get('x')\n",
    "                tool_call_result = cosine(x),\n",
    "                function_call_result_message = {\n",
    "                    \"role\" : \"tool\", \n",
    "                    \"content\": json.dumps({\n",
    "                        \"x\": x, \n",
    "                        \"result\": tool_call_result\n",
    "                    }), \n",
    "                \"tool_call_id\": tool_call_id\n",
    "                }\n",
    "                messages.append(function_call_result_message) \n",
    "\n",
    "            elif tool_call_function_name == 'sin':\n",
    "                x = tool_call_function_arguments.get('x')\n",
    "                tool_call_result = sin(x),\n",
    "                function_call_result_message = {\n",
    "                    \"role\" : \"tool\", \n",
    "                    \"content\": json.dumps({\n",
    "                        \"x\": x, \n",
    "                        \"result\": tool_call_result\n",
    "                    }), \n",
    "                \"tool_call_id\": tool_call_id\n",
    "                }\n",
    "                messages.append(function_call_result_message) \n",
    "\n",
    "            elif tool_call_function_name == 'addition':\n",
    "                x = tool_call_function_arguments.get('x')\n",
    "                y = tool_call_function_arguments.get('y')\n",
    "                tool_call_result = addition(x, y),\n",
    "                function_call_result_message = {\n",
    "                    \"role\" : \"tool\", \n",
    "                    \"content\": json.dumps({\n",
    "                        \"x\": x,\n",
    "                        \"y\": y, \n",
    "                        \"result\": tool_call_result\n",
    "                    }), \n",
    "                \"tool_call_id\": tool_call_id\n",
    "                }\n",
    "                messages.append(function_call_result_message) \n"
   ]
  },
  {
   "cell_type": "code",
   "execution_count": 28,
   "id": "a09a6db6-5e19-4413-97dd-f273a86cc375",
   "metadata": {},
   "outputs": [
    {
     "name": "stdout",
     "output_type": "stream",
     "text": [
      "[{'role': 'system', 'content': 'You are a helpful customer support assistant. Use the supplied tools to assist the user.'}, {'role': 'user', 'content': 'Calculate cos(3) + sin(4) for me'}]\n",
      "[{'role': 'system', 'content': 'You are a helpful customer support assistant. Use the supplied tools to assist the user.'}, {'role': 'user', 'content': 'Calculate cos(3) + sin(4) for me'}, {'role': 'assistant', 'tool_calls': [ChatCompletionMessageToolCall(id='call_cisWyewYiIYWh1L6NncUIeiL', function=Function(arguments='{\"x\":3}', name='cosine'), type='function')]}, {'role': 'tool', 'content': '{\"x\": 3, \"result\": [-0.9899924966004454]}', 'tool_call_id': 'call_cisWyewYiIYWh1L6NncUIeiL'}]\n",
      "[{'role': 'system', 'content': 'You are a helpful customer support assistant. Use the supplied tools to assist the user.'}, {'role': 'user', 'content': 'Calculate cos(3) + sin(4) for me'}, {'role': 'assistant', 'tool_calls': [ChatCompletionMessageToolCall(id='call_cisWyewYiIYWh1L6NncUIeiL', function=Function(arguments='{\"x\":3}', name='cosine'), type='function')]}, {'role': 'tool', 'content': '{\"x\": 3, \"result\": [-0.9899924966004454]}', 'tool_call_id': 'call_cisWyewYiIYWh1L6NncUIeiL'}, {'role': 'assistant', 'tool_calls': [ChatCompletionMessageToolCall(id='call_j7Ws4e8etL5ZvFbhNfh4G671', function=Function(arguments='{\"x\":4}', name='sin'), type='function')]}, {'role': 'tool', 'content': '{\"x\": 4, \"result\": [-0.7568024953079283]}', 'tool_call_id': 'call_j7Ws4e8etL5ZvFbhNfh4G671'}]\n",
      "[{'role': 'system', 'content': 'You are a helpful customer support assistant. Use the supplied tools to assist the user.'}, {'role': 'user', 'content': 'Calculate cos(3) + sin(4) for me'}, {'role': 'assistant', 'tool_calls': [ChatCompletionMessageToolCall(id='call_cisWyewYiIYWh1L6NncUIeiL', function=Function(arguments='{\"x\":3}', name='cosine'), type='function')]}, {'role': 'tool', 'content': '{\"x\": 3, \"result\": [-0.9899924966004454]}', 'tool_call_id': 'call_cisWyewYiIYWh1L6NncUIeiL'}, {'role': 'assistant', 'tool_calls': [ChatCompletionMessageToolCall(id='call_j7Ws4e8etL5ZvFbhNfh4G671', function=Function(arguments='{\"x\":4}', name='sin'), type='function')]}, {'role': 'tool', 'content': '{\"x\": 4, \"result\": [-0.7568024953079283]}', 'tool_call_id': 'call_j7Ws4e8etL5ZvFbhNfh4G671'}, {'role': 'assistant', 'tool_calls': [ChatCompletionMessageToolCall(id='call_Yp4yJv4IoEbmK39K3QNeb8Mg', function=Function(arguments='{\"x\":-0.9899924966004454,\"y\":-0.7568024953079283}', name='addition'), type='function')]}, {'role': 'tool', 'content': '{\"x\": -0.9899924966004454, \"y\": -0.7568024953079283, \"result\": [-1.7467949919083736]}', 'tool_call_id': 'call_Yp4yJv4IoEbmK39K3QNeb8Mg'}]\n"
     ]
    },
    {
     "data": {
      "text/plain": [
       "'The value of \\\\( \\\\cos(3) + \\\\sin(4) \\\\) is approximately -1.74679.'"
      ]
     },
     "execution_count": 28,
     "metadata": {},
     "output_type": "execute_result"
    }
   ],
   "source": [
    "tools = []\n",
    "tools.append(generate_json_schema(cosine))\n",
    "tools.append(generate_json_schema(sin))\n",
    "tools.append(generate_json_schema(addition))\n",
    "run_loop(prompt = \"Calculate cos(3) + sin(4) for me\", tools = tools)"
   ]
  },
  {
   "cell_type": "code",
   "execution_count": null,
   "id": "d34e7525-0f85-4b56-b34f-05ae2c668d60",
   "metadata": {},
   "outputs": [],
   "source": []
  }
 ],
 "metadata": {
  "kernelspec": {
   "display_name": "Python 3 (ipykernel)",
   "language": "python",
   "name": "python3"
  },
  "language_info": {
   "codemirror_mode": {
    "name": "ipython",
    "version": 3
   },
   "file_extension": ".py",
   "mimetype": "text/x-python",
   "name": "python",
   "nbconvert_exporter": "python",
   "pygments_lexer": "ipython3",
   "version": "3.11.10"
  }
 },
 "nbformat": 4,
 "nbformat_minor": 5
}
