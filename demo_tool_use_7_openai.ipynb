{
 "cells": [
  {
   "cell_type": "code",
   "execution_count": 71,
   "id": "7b410945-04d6-4fd7-a118-1c9738ded8dc",
   "metadata": {},
   "outputs": [],
   "source": [
    "from pprint import pprint\n",
    "from typing import Literal, List, Dict\n",
    "\n",
    "from gen_ai_hub.proxy.native.openai import chat, completions\n",
    "from pipeline.generate_tool_schema import generate_json_schema"
   ]
  },
  {
   "cell_type": "code",
   "execution_count": 72,
   "id": "85613598-3377-4542-85c3-6269783f7ab1",
   "metadata": {},
   "outputs": [
    {
     "name": "stdout",
     "output_type": "stream",
     "text": [
      "{'function': {'description': 'Calculate the cosine of an integer ',\n",
      "              'name': 'cosine',\n",
      "              'parameters': {'properties': {'x': {'description': 'The input '\n",
      "                                                                 'integer',\n",
      "                                                  'title': 'X',\n",
      "                                                  'type': 'integer'}},\n",
      "                             'required': ['x'],\n",
      "                             'title': 'cosine',\n",
      "                             'type': 'object'}},\n",
      " 'type': 'function'}\n"
     ]
    }
   ],
   "source": [
    "def cosine(x: int) -> float:\n",
    "    \"\"\"\n",
    "    Calculate the cosine of an integer \n",
    "    \n",
    "    :param x: The input integer\n",
    "    :return: A float representing the cosine of x\n",
    "    \"\"\"\n",
    "    import math\n",
    "    return math.cos(x)\n",
    "\n",
    "tools = []\n",
    "\n",
    "tools.append(generate_json_schema(cosine))\n",
    "pprint(tools[0])"
   ]
  },
  {
   "cell_type": "code",
   "execution_count": 73,
   "id": "af7b19c2-91b6-4a67-ae68-cd7009e798eb",
   "metadata": {},
   "outputs": [],
   "source": [
    "messages = []\n",
    "\n",
    "system_message = {\"role\": \"system\", \"content\": \"You are a helpful customer support assistant. Use the supplied tools to assist the user.\"}\n",
    "user_message =  {\"role\": \"user\", \"content\": \"Can you calculate cos(3) for me?\"}\n",
    "\n",
    "messages.append(system_message)\n",
    "messages.append(user_message)\n",
    "\n",
    "response = chat.completions.create( \n",
    "        messages = messages,\n",
    "        model_name = \"gpt-4\",\n",
    "        tools=tools\n",
    ")\n",
    "\n",
    "response_message = response.choices[0].message"
   ]
  },
  {
   "cell_type": "code",
   "execution_count": 74,
   "id": "a16cc191-33de-442b-ada6-8b5d461a95bb",
   "metadata": {
    "scrolled": true
   },
   "outputs": [
    {
     "name": "stdout",
     "output_type": "stream",
     "text": [
      "{'content': None,\n",
      " 'role': 'assistant',\n",
      " 'tool_calls': [{'function': {'arguments': '{\"x\":3}', 'name': 'cosine'},\n",
      "                 'id': 'call_8P56uYMn0GcbJL3OHHZepu1A',\n",
      "                 'type': 'function'}]}\n"
     ]
    }
   ],
   "source": [
    "#print(response)\n",
    "pprint(response_message.to_dict())"
   ]
  },
  {
   "cell_type": "code",
   "execution_count": 75,
   "id": "13d06d50-704e-4049-be13-c32bf442b5d2",
   "metadata": {},
   "outputs": [],
   "source": [
    "def handle_response(response):\n",
    "    import json\n",
    "    \n",
    "    response_message = response.choices[0].message\n",
    "    \n",
    "    tool_call_block = response_message.tool_calls[0]\n",
    "    if tool_call_block:\n",
    "        messages.append({\"role\": \"assistant\", \"tool_calls\": response_message.tool_calls})\n",
    "        tool_call_id = tool_call_block.id\n",
    "        tool_call_function_name = tool_call_block.function.name\n",
    "        tool_call_function_arguments = json.loads(tool_call_block.function.arguments)\n",
    "        \n",
    "        \n",
    "        if tool_call_function_name == 'cosine':\n",
    "            x = tool_call_function_arguments.get('x')\n",
    "            tool_call_result = cosine(x),\n",
    "            function_call_result_message = {\n",
    "                \"role\" : \"tool\", \n",
    "                \"content\": json.dumps({\n",
    "                    \"x\": 3, \n",
    "                    \"cos(x)\": tool_call_result\n",
    "                }), \n",
    "            \"tool_call_id\": tool_call_id\n",
    "            }\n",
    "            messages.append(function_call_result_message)  "
   ]
  },
  {
   "cell_type": "code",
   "execution_count": 76,
   "id": "a09a6db6-5e19-4413-97dd-f273a86cc375",
   "metadata": {},
   "outputs": [
    {
     "name": "stdout",
     "output_type": "stream",
     "text": [
      "[{'role': 'system', 'content': 'You are a helpful customer support assistant. Use the supplied tools to assist the user.'}, {'role': 'user', 'content': 'Can you calculate cos(3) for me?'}, {'role': 'assistant', 'tool_calls': [ChatCompletionMessageToolCall(id='call_8P56uYMn0GcbJL3OHHZepu1A', function=Function(arguments='{\"x\":3}', name='cosine'), type='function')]}, {'role': 'tool', 'content': '{\"x\": 3, \"cos(x)\": [-0.9899924966004454]}', 'tool_call_id': 'call_8P56uYMn0GcbJL3OHHZepu1A'}]\n"
     ]
    }
   ],
   "source": [
    "handle_response(response)\n",
    "\n",
    "print(messages)"
   ]
  },
  {
   "cell_type": "code",
   "execution_count": 77,
   "id": "617278fc-0cfc-4e30-a15d-3046c244a0d3",
   "metadata": {},
   "outputs": [],
   "source": [
    "response = chat.completions.create( \n",
    "        messages = messages,\n",
    "        model_name = \"gpt-4\",\n",
    "        tools=tools\n",
    ")"
   ]
  },
  {
   "cell_type": "code",
   "execution_count": 78,
   "id": "52cc2dcc-bf59-46b4-8e59-a61c020577f9",
   "metadata": {},
   "outputs": [
    {
     "name": "stdout",
     "output_type": "stream",
     "text": [
      "ChatCompletion(id='chatcmpl-AaRqLZsIvp4TDz5hTLnLyh53K4pJY', choices=[Choice(finish_reason='stop', index=0, logprobs=None, message=ChatCompletionMessage(content='The value of cos(3) is approximately -0.9899924966004454.', refusal=None, role='assistant', audio=None, function_call=None, tool_calls=None), content_filter_results={'hate': {'filtered': False, 'severity': 'safe'}, 'self_harm': {'filtered': False, 'severity': 'safe'}, 'sexual': {'filtered': False, 'severity': 'safe'}, 'violence': {'filtered': False, 'severity': 'safe'}})], created=1733250201, model='gpt-4-turbo-2024-04-09', object='chat.completion', service_tier=None, system_fingerprint='fp_5603ee5e2e', usage=CompletionUsage(completion_tokens=20, prompt_tokens=116, total_tokens=136, completion_tokens_details=None, prompt_tokens_details=None), prompt_filter_results=[{'content_filter_results': {'hate': {'filtered': False, 'severity': 'safe'}, 'self_harm': {'filtered': False, 'severity': 'safe'}, 'sexual': {'filtered': False, 'severity': 'safe'}, 'violence': {'filtered': False, 'severity': 'safe'}}, 'prompt_index': 0}])\n"
     ]
    }
   ],
   "source": [
    "print(response)"
   ]
  },
  {
   "cell_type": "code",
   "execution_count": null,
   "id": "2b360ca0-c0a7-4e03-afda-c20ac8e47550",
   "metadata": {},
   "outputs": [],
   "source": []
  }
 ],
 "metadata": {
  "kernelspec": {
   "display_name": "Python 3 (ipykernel)",
   "language": "python",
   "name": "python3"
  },
  "language_info": {
   "codemirror_mode": {
    "name": "ipython",
    "version": 3
   },
   "file_extension": ".py",
   "mimetype": "text/x-python",
   "name": "python",
   "nbconvert_exporter": "python",
   "pygments_lexer": "ipython3",
   "version": "3.11.10"
  }
 },
 "nbformat": 4,
 "nbformat_minor": 5
}
