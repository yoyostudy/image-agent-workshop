{
 "cells": [
  {
   "cell_type": "markdown",
   "id": "f7bbb823-655f-4ed1-8ac3-a3948fce4d6b",
   "metadata": {},
   "source": [
    "TLDR: \n",
    "1. Purpose: A demo of **tool use** to do a simple math problem to calculate the cosine of 8\n",
    "2. Model name: `anthropic--claude-3-opus`\n",
    "3. Model Provider: Amazon Bedrock\n",
    "4. Only one tool function is used\n",
    "5. Reference: [Amazon Bedrock](https://community.aws/content/2hW5367isgQOkkXLYjp4JB3Pe16/intro-to-tool-use-with-the-amazon-bedrock-converse-api?lang=en)"
   ]
  },
  {
   "cell_type": "code",
   "execution_count": 10,
   "id": "788b1d65-0f0a-4d57-ad0f-56d414d73665",
   "metadata": {},
   "outputs": [],
   "source": [
    "import math\n",
    "from pprint import pprint\n",
    "\n",
    "from gen_ai_hub.proxy.native.amazon.clients import Session\n",
    "\n",
    "model_name = 'anthropic--claude-3-opus'\n",
    "bedrock = Session().client(model_name=model_name)"
   ]
  },
  {
   "cell_type": "code",
   "execution_count": 11,
   "id": "87ea658c-51be-49d1-aea7-19bc8b0d8f4a",
   "metadata": {},
   "outputs": [],
   "source": [
    "tool_list = [\n",
    "    {\n",
    "        \"toolSpec\": {\n",
    "            \"name\": \"cosine\",\n",
    "            \"description\": \"Calculate the cosine of x\",\n",
    "            \"inputSchema\": {\n",
    "                \"json\": {\n",
    "                    \"type\": \"object\", \n",
    "                    \"properties\": {\n",
    "                        \"x\": {\n",
    "                            \"type\": \"number\", \n",
    "                            \"description\": \"The number to pass to the function\"\n",
    "                        }\n",
    "                    },\n",
    "                    \"required\": [\"x\"]\n",
    "                }\n",
    "            }\n",
    "        }\n",
    "    }\n",
    "]"
   ]
  },
  {
   "cell_type": "code",
   "execution_count": 12,
   "id": "420eaac4-3acb-4dbe-bf93-fa57799a46dd",
   "metadata": {},
   "outputs": [],
   "source": [
    "def call_bedrock(message_list, tool_list):\n",
    "    bedrock = Session().client(model_name=model_name)\n",
    "    response = bedrock.converse(\n",
    "        messages = message_list, \n",
    "        inferenceConfig = {\n",
    "            \"maxTokens\": 4096, \n",
    "            \"temperature\": 0.0, \n",
    "        },\n",
    "        toolConfig={\n",
    "            \"tools\": tool_list\n",
    "        }\n",
    "    )\n",
    "    return response"
   ]
  },
  {
   "cell_type": "code",
   "execution_count": 13,
   "id": "4f791507-1388-4ff4-90c3-687f42b2ab49",
   "metadata": {},
   "outputs": [
    {
     "name": "stdout",
     "output_type": "stream",
     "text": [
      "[{'role': 'user', 'content': [{'text': 'What is the cosine of 8?'}]}]\n"
     ]
    }
   ],
   "source": [
    "message_list = []\n",
    "initial_message = {\n",
    "    \"role\": \"user\", \n",
    "    \"content\": [\n",
    "        {\"text\": \"What is the cosine of 8?\"}\n",
    "    ]\n",
    "}\n",
    "message_list.append(initial_message)\n",
    "print(message_list)"
   ]
  },
  {
   "cell_type": "code",
   "execution_count": 14,
   "id": "6d482f7a-2d8b-428c-ad06-ebe771b43e7c",
   "metadata": {},
   "outputs": [],
   "source": [
    "# Call 1: User -> Assistant\n",
    "response = call_bedrock(message_list, tool_list)"
   ]
  },
  {
   "cell_type": "code",
   "execution_count": 15,
   "id": "1953b728-b06c-4e9b-9adc-1db1d325d8d6",
   "metadata": {},
   "outputs": [
    {
     "name": "stdout",
     "output_type": "stream",
     "text": [
      "{'ResponseMetadata': {'HTTPHeaders': {'content-length': '688',\n",
      "                                      'content-type': 'application/json',\n",
      "                                      'date': 'Mon, 02 Dec 2024 18:04:41 GMT'},\n",
      "                      'HTTPStatusCode': 200,\n",
      "                      'RetryAttempts': 0},\n",
      " 'metrics': {'latencyMs': 6917},\n",
      " 'output': {'message': {'content': [{'text': '<thinking>\\n'\n",
      "                                             'The user is asking for the '\n",
      "                                             'cosine of the number 8. To '\n",
      "                                             'answer this, the relevant tool '\n",
      "                                             'is:\\n'\n",
      "                                             '\\n'\n",
      "                                             'cosine:\\n'\n",
      "                                             '- Description: Calculate the '\n",
      "                                             'cosine of x\\n'\n",
      "                                             '- Required parameter: \\n'\n",
      "                                             '  - x (number): The number to '\n",
      "                                             'pass to the function\\n'\n",
      "                                             '\\n'\n",
      "                                             'The user has directly provided '\n",
      "                                             'the required parameter x, with a '\n",
      "                                             'value of 8. Since all required '\n",
      "                                             'parameters are available, we can '\n",
      "                                             'proceed with calling the cosine '\n",
      "                                             'tool.\\n'\n",
      "                                             '</thinking>'},\n",
      "                                    {'toolUse': {'input': {'x': 8},\n",
      "                                                 'name': 'cosine',\n",
      "                                                 'toolUseId': 'tooluse_nHfKR9AAQaG4GZlY5ykO6A'}}],\n",
      "                        'role': 'assistant'}},\n",
      " 'stopReason': 'tool_use',\n",
      " 'usage': {'inputTokens': 614, 'outputTokens': 150, 'totalTokens': 764}}\n"
     ]
    }
   ],
   "source": [
    "pprint(response)\n",
    "response_message = response['output']['message']\n",
    "response_content_blocks = response_message['content']\n",
    "# add the response to the conversation history\n",
    "message_list.append(response_message)"
   ]
  },
  {
   "cell_type": "code",
   "execution_count": 17,
   "id": "2465e348-a267-4c2a-a1ac-3b25ed1b7b2b",
   "metadata": {},
   "outputs": [
    {
     "name": "stdout",
     "output_type": "stream",
     "text": [
      "[{'content': [{'text': 'What is the cosine of 8?'}], 'role': 'user'},\n",
      " {'content': [{'text': '<thinking>\\n'\n",
      "                       'The user is asking for the cosine of the number 8. To '\n",
      "                       'answer this, the relevant tool is:\\n'\n",
      "                       '\\n'\n",
      "                       'cosine:\\n'\n",
      "                       '- Description: Calculate the cosine of x\\n'\n",
      "                       '- Required parameter: \\n'\n",
      "                       '  - x (number): The number to pass to the function\\n'\n",
      "                       '\\n'\n",
      "                       'The user has directly provided the required parameter '\n",
      "                       'x, with a value of 8. Since all required parameters '\n",
      "                       'are available, we can proceed with calling the cosine '\n",
      "                       'tool.\\n'\n",
      "                       '</thinking>'},\n",
      "              {'toolUse': {'input': {'x': 8},\n",
      "                           'name': 'cosine',\n",
      "                           'toolUseId': 'tooluse_nHfKR9AAQaG4GZlY5ykO6A'}}],\n",
      "  'role': 'assistant'},\n",
      " {'content': [{'toolResult': {'content': [{'json': {'result': -0.14550003380861354}}],\n",
      "                              'toolUseId': 'tooluse_nHfKR9AAQaG4GZlY5ykO6A'}}],\n",
      "  'role': 'user'}]\n"
     ]
    }
   ],
   "source": [
    "follow_up_content_blocks = []\n",
    "\n",
    "for content_block in response_content_blocks:\n",
    "    if 'toolUse' in content_block:\n",
    "        tool_use_block = content_block['toolUse']\n",
    "        tool_use_id = tool_use_block['toolUseId']\n",
    "        tool_use_name = tool_use_block['name']\n",
    "\n",
    "        if tool_use_name == 'cosine':\n",
    "            x = tool_use_block['input']['x']\n",
    "            tool_result_value = math.cos(x)\n",
    "\n",
    "            follow_up_content_blocks.append({\n",
    "                    \"toolResult\": {\n",
    "                        'toolUseId': tool_use_id,\n",
    "                        'content':[\n",
    "                            {\n",
    "                                \"json\": {\n",
    "                                    \"result\": tool_result_value\n",
    "                                }\n",
    "                            }\n",
    "                        ]\n",
    "                    }\n",
    "                })\n",
    "\n",
    "if len(follow_up_content_blocks) > 0:\n",
    "\n",
    "    follow_up_message = {\n",
    "        \"role\": \"user\", \n",
    "        \"content\": follow_up_content_blocks,\n",
    "    }\n",
    "\n",
    "    message_list.append(follow_up_message)\n",
    "\n",
    "pprint(message_list)"
   ]
  },
  {
   "cell_type": "code",
   "execution_count": 18,
   "id": "5a9563f8-19e0-4595-8708-6d07602980c8",
   "metadata": {},
   "outputs": [],
   "source": [
    "# Call 2: User -> Assistant\n",
    "response = call_bedrock(message_list, tool_list)"
   ]
  },
  {
   "cell_type": "code",
   "execution_count": 19,
   "id": "afad246d-65c9-40e7-81f3-e85d98ba2d76",
   "metadata": {},
   "outputs": [
    {
     "name": "stdout",
     "output_type": "stream",
     "text": [
      "The result is: The cosine of 8 is -0.14550003380861354.\n"
     ]
    }
   ],
   "source": [
    "response_message = response['output']['message']\n",
    "response_message_content = response_message['content']\n",
    "response_stop_reason = response['stopReason']\n",
    "if response_stop_reason == 'end_turn':\n",
    "    result = response_message_content[0]['text']\n",
    "    print(f'The result is: {result}')"
   ]
  },
  {
   "cell_type": "code",
   "execution_count": null,
   "id": "ec519cc2-d05a-4357-9dc5-a81643f8c69f",
   "metadata": {},
   "outputs": [],
   "source": []
  }
 ],
 "metadata": {
  "kernelspec": {
   "display_name": "Python 3 (ipykernel)",
   "language": "python",
   "name": "python3"
  },
  "language_info": {
   "codemirror_mode": {
    "name": "ipython",
    "version": 3
   },
   "file_extension": ".py",
   "mimetype": "text/x-python",
   "name": "python",
   "nbconvert_exporter": "python",
   "pygments_lexer": "ipython3",
   "version": "3.11.10"
  }
 },
 "nbformat": 4,
 "nbformat_minor": 5
}
