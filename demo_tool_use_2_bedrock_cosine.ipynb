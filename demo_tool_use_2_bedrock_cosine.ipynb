{
 "cells": [
  {
   "cell_type": "markdown",
   "id": "f7bbb823-655f-4ed1-8ac3-a3948fce4d6b",
   "metadata": {},
   "source": [
    "TLDR: \n",
    "1. Purpose: A demo of **tool use** to do a simple math problem to calculate the cosine of 8\n",
    "2. Model name: `anthropic--claude-3-opus`\n",
    "3. Model Provider: Amazon Bedrock\n",
    "4. Only one tool function is used\n",
    "5. Reference: [Amazon Bedrock](https://community.aws/content/2hW5367isgQOkkXLYjp4JB3Pe16/intro-to-tool-use-with-the-amazon-bedrock-converse-api?lang=en)"
   ]
  },
  {
   "cell_type": "code",
   "execution_count": 1,
   "id": "788b1d65-0f0a-4d57-ad0f-56d414d73665",
   "metadata": {},
   "outputs": [],
   "source": [
    "import math\n",
    "from pprint import pprint\n",
    "\n",
    "from gen_ai_hub.proxy.native.amazon.clients import Session\n",
    "\n",
    "model_name = 'anthropic--claude-3-opus'\n",
    "bedrock = Session().client(model_name=model_name)"
   ]
  },
  {
   "cell_type": "code",
   "execution_count": 2,
   "id": "87ea658c-51be-49d1-aea7-19bc8b0d8f4a",
   "metadata": {},
   "outputs": [],
   "source": [
    "tool_list = [\n",
    "    {\n",
    "        \"toolSpec\": {\n",
    "            \"name\": \"cosine\",\n",
    "            \"description\": \"Calculate the cosine of x\",\n",
    "            \"inputSchema\": {\n",
    "                \"json\": {\n",
    "                    \"type\": \"object\", \n",
    "                    \"properties\": {\n",
    "                        \"x\": {\n",
    "                            \"type\": \"number\", \n",
    "                            \"description\": \"The number to pass to the function\"\n",
    "                        }\n",
    "                    },\n",
    "                    \"required\": [\"x\"]\n",
    "                }\n",
    "            }\n",
    "        }\n",
    "    }, \n",
    "    {\n",
    "        \"toolSpec\": {\n",
    "            \"name\": \"get_numerical\",\n",
    "            \"description\":  \"Extracts only the numerical value from a given answer, ignoring explanations or other text.\",\n",
    "            \"inputSchema\": {\n",
    "                \"json\": {\n",
    "                    \"type\": \"object\",\n",
    "                    \"properties\": {\n",
    "                    \"answer\": {\n",
    "                            \"type\": \"string\",\n",
    "                            \"description\": \"The input string that may contain a number along with other text. This function extracts the numerical value.\"\n",
    "                        }\n",
    "                    },\n",
    "                    \"required\": [\"answer\"]\n",
    "                }\n",
    "            }\n",
    "        }\n",
    "    },\n",
    "]"
   ]
  },
  {
   "cell_type": "code",
   "execution_count": 7,
   "id": "9eb50c54-dd20-4bdb-828c-c21d29187f0d",
   "metadata": {},
   "outputs": [],
   "source": [
    "def call_bedrock(message_list, tool_list):\n",
    "    bedrock = Session().client(model_name=model_name)\n",
    "    response = bedrock.converse(\n",
    "        messages = message_list, \n",
    "        inferenceConfig = {\n",
    "            \"maxTokens\": 4096, \n",
    "            \"temperature\": 0.0, \n",
    "        },\n",
    "        toolConfig={\n",
    "            \"tools\": tool_list\n",
    "        }\n",
    "    )\n",
    "    return response"
   ]
  },
  {
   "cell_type": "code",
   "execution_count": 8,
   "id": "4f791507-1388-4ff4-90c3-687f42b2ab49",
   "metadata": {},
   "outputs": [],
   "source": [
    "message_list = []\n",
    "initial_message = {\n",
    "    \"role\": \"user\", \n",
    "    \"content\": [\n",
    "        {\"text\": \"What is the cosine of 8? Give me only the numerical number\"}\n",
    "    ]\n",
    "}\n",
    "message_list.append(initial_message)"
   ]
  },
  {
   "cell_type": "code",
   "execution_count": 9,
   "id": "52e2d788-a999-4000-8ec1-b8540eb2a84a",
   "metadata": {},
   "outputs": [
    {
     "name": "stdout",
     "output_type": "stream",
     "text": [
      "[{'role': 'user', 'content': [{'text': 'What is the cosine of 8? Give me only the numerical number'}]}]\n"
     ]
    }
   ],
   "source": [
    "print(message_list)"
   ]
  },
  {
   "cell_type": "code",
   "execution_count": 10,
   "id": "6d482f7a-2d8b-428c-ad06-ebe771b43e7c",
   "metadata": {},
   "outputs": [],
   "source": [
    "# Call 1\n",
    "response = call_bedrock(message_list, tool_list)"
   ]
  },
  {
   "cell_type": "code",
   "execution_count": 11,
   "id": "1953b728-b06c-4e9b-9adc-1db1d325d8d6",
   "metadata": {},
   "outputs": [
    {
     "name": "stdout",
     "output_type": "stream",
     "text": [
      "{'ResponseMetadata': {'HTTPHeaders': {'content-length': '672',\n",
      "                                      'content-type': 'application/json',\n",
      "                                      'date': 'Mon, 02 Dec 2024 17:22:18 GMT'},\n",
      "                      'HTTPStatusCode': 200,\n",
      "                      'RetryAttempts': 0},\n",
      " 'metrics': {'latencyMs': 7288},\n",
      " 'output': {'message': {'content': [{'text': '<thinking>\\n'\n",
      "                                             'The cosine tool is relevant for '\n",
      "                                             'calculating the cosine of a '\n",
      "                                             'number. It requires one '\n",
      "                                             'parameter:\\n'\n",
      "                                             '- x (number): The number to pass '\n",
      "                                             'to the function\\n'\n",
      "                                             'The user has directly provided '\n",
      "                                             'the value for x, which is 8. No '\n",
      "                                             'other tools are needed.\\n'\n",
      "                                             'The user also specified to '\n",
      "                                             'return only the numerical value, '\n",
      "                                             'so the get_numerical tool should '\n",
      "                                             'be called on the result of the '\n",
      "                                             'cosine tool.\\n'\n",
      "                                             '</thinking>'},\n",
      "                                    {'toolUse': {'input': {'x': 8},\n",
      "                                                 'name': 'cosine',\n",
      "                                                 'toolUseId': 'tooluse_i24KRwHJTNiWGS8Y6xK9zw'}}],\n",
      "                        'role': 'assistant'}},\n",
      " 'stopReason': 'tool_use',\n",
      " 'usage': {'inputTokens': 712, 'outputTokens': 143, 'totalTokens': 855}}\n"
     ]
    }
   ],
   "source": [
    "pprint(response)"
   ]
  },
  {
   "cell_type": "code",
   "execution_count": 12,
   "id": "f667be8a-32f4-4408-b4c1-bf82d0233efa",
   "metadata": {},
   "outputs": [
    {
     "name": "stdout",
     "output_type": "stream",
     "text": [
      "{'content': [{'text': '<thinking>\\n'\n",
      "                      'The cosine tool is relevant for calculating the cosine '\n",
      "                      'of a number. It requires one parameter:\\n'\n",
      "                      '- x (number): The number to pass to the function\\n'\n",
      "                      'The user has directly provided the value for x, which '\n",
      "                      'is 8. No other tools are needed.\\n'\n",
      "                      'The user also specified to return only the numerical '\n",
      "                      'value, so the get_numerical tool should be called on '\n",
      "                      'the result of the cosine tool.\\n'\n",
      "                      '</thinking>'},\n",
      "             {'toolUse': {'input': {'x': 8},\n",
      "                          'name': 'cosine',\n",
      "                          'toolUseId': 'tooluse_i24KRwHJTNiWGS8Y6xK9zw'}}],\n",
      " 'role': 'assistant'}\n"
     ]
    }
   ],
   "source": [
    "response_message = response['output']['message']\n",
    "pprint(response_message)"
   ]
  },
  {
   "cell_type": "code",
   "execution_count": 13,
   "id": "198dfe57-4cef-4794-92bc-dc0339b5ed85",
   "metadata": {},
   "outputs": [
    {
     "name": "stdout",
     "output_type": "stream",
     "text": [
      "[{'text': '<thinking>\\n'\n",
      "          'The cosine tool is relevant for calculating the cosine of a number. '\n",
      "          'It requires one parameter:\\n'\n",
      "          '- x (number): The number to pass to the function\\n'\n",
      "          'The user has directly provided the value for x, which is 8. No '\n",
      "          'other tools are needed.\\n'\n",
      "          'The user also specified to return only the numerical value, so the '\n",
      "          'get_numerical tool should be called on the result of the cosine '\n",
      "          'tool.\\n'\n",
      "          '</thinking>'},\n",
      " {'toolUse': {'input': {'x': 8},\n",
      "              'name': 'cosine',\n",
      "              'toolUseId': 'tooluse_i24KRwHJTNiWGS8Y6xK9zw'}}]\n"
     ]
    }
   ],
   "source": [
    "response_content_blocks = response_message['content']\n",
    "pprint(response_content_blocks)"
   ]
  },
  {
   "cell_type": "code",
   "execution_count": 14,
   "id": "7956037c-c799-4b02-a569-8f7b941956d1",
   "metadata": {},
   "outputs": [
    {
     "name": "stdout",
     "output_type": "stream",
     "text": [
      "[{'content': [{'text': 'What is the cosine of 8? Give me only the numerical '\n",
      "                       'number'}],\n",
      "  'role': 'user'},\n",
      " {'content': [{'text': '<thinking>\\n'\n",
      "                       'The cosine tool is relevant for calculating the cosine '\n",
      "                       'of a number. It requires one parameter:\\n'\n",
      "                       '- x (number): The number to pass to the function\\n'\n",
      "                       'The user has directly provided the value for x, which '\n",
      "                       'is 8. No other tools are needed.\\n'\n",
      "                       'The user also specified to return only the numerical '\n",
      "                       'value, so the get_numerical tool should be called on '\n",
      "                       'the result of the cosine tool.\\n'\n",
      "                       '</thinking>'},\n",
      "              {'toolUse': {'input': {'x': 8},\n",
      "                           'name': 'cosine',\n",
      "                           'toolUseId': 'tooluse_i24KRwHJTNiWGS8Y6xK9zw'}}],\n",
      "  'role': 'assistant'}]\n"
     ]
    }
   ],
   "source": [
    "message_list.append(response_message)\n",
    "pprint(message_list)"
   ]
  },
  {
   "cell_type": "code",
   "execution_count": 15,
   "id": "2465e348-a267-4c2a-a1ac-3b25ed1b7b2b",
   "metadata": {
    "scrolled": true
   },
   "outputs": [
    {
     "name": "stdout",
     "output_type": "stream",
     "text": [
      "[{'toolResult': {'content': [{'json': {'result': -0.14550003380861354}}],\n",
      "                 'toolUseId': 'tooluse_i24KRwHJTNiWGS8Y6xK9zw'}}]\n",
      "[{'content': [{'text': 'What is the cosine of 8? Give me only the numerical '\n",
      "                       'number'}],\n",
      "  'role': 'user'},\n",
      " {'content': [{'text': '<thinking>\\n'\n",
      "                       'The cosine tool is relevant for calculating the cosine '\n",
      "                       'of a number. It requires one parameter:\\n'\n",
      "                       '- x (number): The number to pass to the function\\n'\n",
      "                       'The user has directly provided the value for x, which '\n",
      "                       'is 8. No other tools are needed.\\n'\n",
      "                       'The user also specified to return only the numerical '\n",
      "                       'value, so the get_numerical tool should be called on '\n",
      "                       'the result of the cosine tool.\\n'\n",
      "                       '</thinking>'},\n",
      "              {'toolUse': {'input': {'x': 8},\n",
      "                           'name': 'cosine',\n",
      "                           'toolUseId': 'tooluse_i24KRwHJTNiWGS8Y6xK9zw'}}],\n",
      "  'role': 'assistant'},\n",
      " {'content': [{'toolResult': {'content': [{'json': {'result': -0.14550003380861354}}],\n",
      "                              'toolUseId': 'tooluse_i24KRwHJTNiWGS8Y6xK9zw'}}],\n",
      "  'role': 'user'}]\n"
     ]
    }
   ],
   "source": [
    "follow_up_content_blocks = []\n",
    "\n",
    "for content_block in response_content_blocks:\n",
    "    if 'toolUse' in content_block:\n",
    "        tool_use_block = content_block['toolUse']\n",
    "        tool_use_id = tool_use_block['toolUseId']\n",
    "        tool_use_name = tool_use_block['name']\n",
    "\n",
    "        if tool_use_name == 'cosine':\n",
    "            x = tool_use_block['input']['x']\n",
    "            tool_result_value = math.cos(x)\n",
    "\n",
    "            follow_up_content_blocks.append({\n",
    "                    \"toolResult\": {\n",
    "                        'toolUseId': tool_use_id,\n",
    "                        'content':[\n",
    "                            {\n",
    "                                \"json\": {\n",
    "                                    \"result\": tool_result_value\n",
    "                                }\n",
    "                            }\n",
    "                        ]\n",
    "                    }\n",
    "                })\n",
    "\n",
    "pprint(follow_up_content_blocks)\n",
    "\n",
    "if len(follow_up_content_blocks) > 0:\n",
    "\n",
    "    follow_up_message = {\n",
    "        \"role\": \"user\", \n",
    "        \"content\": follow_up_content_blocks,\n",
    "    }\n",
    "\n",
    "    message_list.append(follow_up_message)\n",
    "\n",
    "pprint(message_list)"
   ]
  },
  {
   "cell_type": "code",
   "execution_count": 16,
   "id": "5a9563f8-19e0-4595-8708-6d07602980c8",
   "metadata": {},
   "outputs": [],
   "source": [
    "# Call 2\n",
    "response = call_bedrock(message_list, tool_list)"
   ]
  },
  {
   "cell_type": "code",
   "execution_count": 17,
   "id": "afad246d-65c9-40e7-81f3-e85d98ba2d76",
   "metadata": {},
   "outputs": [
    {
     "name": "stdout",
     "output_type": "stream",
     "text": [
      "{'ResponseMetadata': {'HTTPHeaders': {'content-length': '297',\n",
      "                                      'content-type': 'application/json',\n",
      "                                      'date': 'Mon, 02 Dec 2024 17:23:05 GMT'},\n",
      "                      'HTTPStatusCode': 200,\n",
      "                      'RetryAttempts': 0},\n",
      " 'metrics': {'latencyMs': 2250},\n",
      " 'output': {'message': {'content': [{'toolUse': {'input': {'answer': '-0.14550003380861354'},\n",
      "                                                 'name': 'get_numerical',\n",
      "                                                 'toolUseId': 'tooluse_xAAVxpn0Q3ScSXovJUqWTQ'}}],\n",
      "                        'role': 'assistant'}},\n",
      " 'stopReason': 'tool_use',\n",
      " 'usage': {'inputTokens': 878, 'outputTokens': 62, 'totalTokens': 940}}\n"
     ]
    }
   ],
   "source": [
    "pprint(response)"
   ]
  },
  {
   "cell_type": "code",
   "execution_count": 18,
   "id": "be455a97-9984-438c-988e-7c994b5b8d03",
   "metadata": {},
   "outputs": [
    {
     "name": "stdout",
     "output_type": "stream",
     "text": [
      "[{'toolUse': {'input': {'answer': '-0.14550003380861354'},\n",
      "              'name': 'get_numerical',\n",
      "              'toolUseId': 'tooluse_xAAVxpn0Q3ScSXovJUqWTQ'}}]\n",
      "[{'content': [{'text': 'What is the cosine of 8? Give me only the numerical '\n",
      "                       'number'}],\n",
      "  'role': 'user'},\n",
      " {'content': [{'text': '<thinking>\\n'\n",
      "                       'The cosine tool is relevant for calculating the cosine '\n",
      "                       'of a number. It requires one parameter:\\n'\n",
      "                       '- x (number): The number to pass to the function\\n'\n",
      "                       'The user has directly provided the value for x, which '\n",
      "                       'is 8. No other tools are needed.\\n'\n",
      "                       'The user also specified to return only the numerical '\n",
      "                       'value, so the get_numerical tool should be called on '\n",
      "                       'the result of the cosine tool.\\n'\n",
      "                       '</thinking>'},\n",
      "              {'toolUse': {'input': {'x': 8},\n",
      "                           'name': 'cosine',\n",
      "                           'toolUseId': 'tooluse_i24KRwHJTNiWGS8Y6xK9zw'}}],\n",
      "  'role': 'assistant'},\n",
      " {'content': [{'toolResult': {'content': [{'json': {'result': -0.14550003380861354}}],\n",
      "                              'toolUseId': 'tooluse_i24KRwHJTNiWGS8Y6xK9zw'}}],\n",
      "  'role': 'user'},\n",
      " {'content': [{'toolUse': {'input': {'answer': '-0.14550003380861354'},\n",
      "                           'name': 'get_numerical',\n",
      "                           'toolUseId': 'tooluse_xAAVxpn0Q3ScSXovJUqWTQ'}}],\n",
      "  'role': 'assistant'}]\n"
     ]
    }
   ],
   "source": [
    "response_message = response['output']['message']\n",
    "response_content_blocks = response_message['content']\n",
    "pprint(response_content_blocks)\n",
    "\n",
    "response_message = response['output']['message']\n",
    "message_list.append(response_message)\n",
    "pprint(message_list)"
   ]
  },
  {
   "cell_type": "code",
   "execution_count": null,
   "id": "b6f002a7-6dbd-4e75-b1f3-eaf88fda620c",
   "metadata": {},
   "outputs": [],
   "source": []
  },
  {
   "cell_type": "code",
   "execution_count": null,
   "id": "c95491d8-02b5-46d7-be1a-2abf375a9013",
   "metadata": {},
   "outputs": [],
   "source": []
  },
  {
   "cell_type": "code",
   "execution_count": 19,
   "id": "db9f2664-a324-4b85-a585-3351dbc9e6d8",
   "metadata": {},
   "outputs": [
    {
     "name": "stdout",
     "output_type": "stream",
     "text": [
      "[{'content': [{'text': 'What is the cosine of 8? Give me only the numerical '\n",
      "                       'number'}],\n",
      "  'role': 'user'},\n",
      " {'content': [{'text': '<thinking>\\n'\n",
      "                       'The cosine tool is relevant for calculating the cosine '\n",
      "                       'of a number. It requires one parameter:\\n'\n",
      "                       '- x (number): The number to pass to the function\\n'\n",
      "                       'The user has directly provided the value for x, which '\n",
      "                       'is 8. No other tools are needed.\\n'\n",
      "                       'The user also specified to return only the numerical '\n",
      "                       'value, so the get_numerical tool should be called on '\n",
      "                       'the result of the cosine tool.\\n'\n",
      "                       '</thinking>'},\n",
      "              {'toolUse': {'input': {'x': 8},\n",
      "                           'name': 'cosine',\n",
      "                           'toolUseId': 'tooluse_i24KRwHJTNiWGS8Y6xK9zw'}}],\n",
      "  'role': 'assistant'},\n",
      " {'content': [{'toolResult': {'content': [{'json': {'result': -0.14550003380861354}}],\n",
      "                              'toolUseId': 'tooluse_i24KRwHJTNiWGS8Y6xK9zw'}}],\n",
      "  'role': 'user'},\n",
      " {'content': [{'toolUse': {'input': {'answer': '-0.14550003380861354'},\n",
      "                           'name': 'get_numerical',\n",
      "                           'toolUseId': 'tooluse_xAAVxpn0Q3ScSXovJUqWTQ'}}],\n",
      "  'role': 'assistant'},\n",
      " {'content': [{'toolResult': {'content': [{'json': {'result': -0.14550003380861354}}],\n",
      "                              'toolUseId': 'tooluse_xAAVxpn0Q3ScSXovJUqWTQ'}}],\n",
      "  'role': 'user'}]\n"
     ]
    }
   ],
   "source": [
    "follow_up_content_blocks = []\n",
    "\n",
    "for content_block in response_content_blocks:\n",
    "    if 'toolUse' in content_block:\n",
    "        tool_use_block = content_block['toolUse']\n",
    "        tool_use_id = tool_use_block['toolUseId']\n",
    "        tool_use_name = tool_use_block['name']\n",
    "\n",
    "        if tool_use_name == 'get_numerical':\n",
    "            answer = tool_use_block['input']['answer']\n",
    "            try:\n",
    "                answer = float(answer)\n",
    "                tool_result_value = answer\n",
    "            except:\n",
    "                raise ValueError(f\"Invalid input for numerical conversion: {answer}\")\n",
    "                \n",
    "            follow_up_content_blocks.append({\n",
    "                    \"toolResult\": {\n",
    "                        'toolUseId': tool_use_id,\n",
    "                        'content':[\n",
    "                            {\n",
    "                                \"json\": {\n",
    "                                    \"result\": tool_result_value\n",
    "                                }\n",
    "                            }\n",
    "                        ]\n",
    "                    }\n",
    "                })\n",
    "\n",
    "if len(follow_up_content_blocks) > 0:\n",
    "    follow_up_message = {\n",
    "        \"role\": \"user\", \n",
    "        \"content\": follow_up_content_blocks,\n",
    "    }\n",
    "\n",
    "    message_list.append(follow_up_message)\n",
    "\n",
    "pprint(message_list)"
   ]
  },
  {
   "cell_type": "code",
   "execution_count": 20,
   "id": "f4770d71-e8cd-4e24-a9ee-87624b39bb0e",
   "metadata": {},
   "outputs": [],
   "source": [
    "response = call_bedrock(message_list, tool_list)"
   ]
  },
  {
   "cell_type": "code",
   "execution_count": 21,
   "id": "210dd482-b432-4b16-8c70-57cda1a992aa",
   "metadata": {},
   "outputs": [
    {
     "name": "stdout",
     "output_type": "stream",
     "text": [
      "{'ResponseMetadata': {'HTTPHeaders': {'content-length': '205',\n",
      "                                      'content-type': 'application/json',\n",
      "                                      'date': 'Mon, 02 Dec 2024 17:23:28 GMT'},\n",
      "                      'HTTPStatusCode': 200,\n",
      "                      'RetryAttempts': 0},\n",
      " 'metrics': {'latencyMs': 2247},\n",
      " 'output': {'message': {'content': [{'text': '-0.14550003380861354'}],\n",
      "                        'role': 'assistant'}},\n",
      " 'stopReason': 'end_turn',\n",
      " 'usage': {'inputTokens': 963, 'outputTokens': 13, 'totalTokens': 976}}\n"
     ]
    }
   ],
   "source": [
    "pprint(response)"
   ]
  },
  {
   "cell_type": "code",
   "execution_count": null,
   "id": "9fd33971-3ac8-4c3a-aee8-f934a53dbd30",
   "metadata": {},
   "outputs": [],
   "source": []
  }
 ],
 "metadata": {
  "kernelspec": {
   "display_name": "Python 3 (ipykernel)",
   "language": "python",
   "name": "python3"
  },
  "language_info": {
   "codemirror_mode": {
    "name": "ipython",
    "version": 3
   },
   "file_extension": ".py",
   "mimetype": "text/x-python",
   "name": "python",
   "nbconvert_exporter": "python",
   "pygments_lexer": "ipython3",
   "version": "3.11.10"
  }
 },
 "nbformat": 4,
 "nbformat_minor": 5
}
